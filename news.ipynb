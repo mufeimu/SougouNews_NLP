{
 "cells": [
  {
   "cell_type": "markdown",
   "metadata": {},
   "source": [
    "# 数据读取、清洗"
   ]
  },
  {
   "cell_type": "code",
   "execution_count": 1,
   "metadata": {
    "ExecuteTime": {
     "end_time": "2019-12-20T12:13:19.629579Z",
     "start_time": "2019-12-20T12:13:18.599337Z"
    }
   },
   "outputs": [
    {
     "name": "stdout",
     "output_type": "stream",
     "text": [
      "GB2312\n"
     ]
    }
   ],
   "source": [
    "#获取文件的编码格式函数\n",
    "import chardet\n",
    "def get_encoding(file):\n",
    "    with open(file, 'rb') as f:\n",
    "        return chardet.detect(f.read())['encoding']\n",
    "encoding=get_encoding('G:\\\\PracticeData\\\\val.txt')\n",
    "print(encoding)"
   ]
  },
  {
   "cell_type": "code",
   "execution_count": 5,
   "metadata": {
    "ExecuteTime": {
     "end_time": "2019-12-18T11:47:01.185649Z",
     "start_time": "2019-12-18T11:47:01.160580Z"
    }
   },
   "outputs": [
    {
     "data": {
      "text/plain": [
       "(1200, 1)"
      ]
     },
     "execution_count": 5,
     "metadata": {},
     "output_type": "execute_result"
    }
   ],
   "source": [
    "#该新闻文件只有200条新闻\n",
    "import pandas as pd\n",
    "import numpy\n",
    "news = pd.read_table('G:\\\\PracticeData\\\\news_tensite_xml.smarty.txt',header = None,encoding = 'GB18030')\n",
    "# 分别读取url,content,contenttitle内容\n",
    "url = []\n",
    "content = []\n",
    "contenttitle = []\n",
    "news.shape  #可判断出文件读取后的数据类型是矩阵类型，news是1200行1列的矩阵"
   ]
  },
  {
   "cell_type": "code",
   "execution_count": 6,
   "metadata": {
    "ExecuteTime": {
     "end_time": "2019-12-18T11:52:23.672622Z",
     "start_time": "2019-12-18T11:52:23.530796Z"
    }
   },
   "outputs": [
    {
     "name": "stdout",
     "output_type": "stream",
     "text": [
      "(200, 3)\n"
     ]
    },
    {
     "data": {
      "text/html": [
       "<div>\n",
       "<style scoped>\n",
       "    .dataframe tbody tr th:only-of-type {\n",
       "        vertical-align: middle;\n",
       "    }\n",
       "\n",
       "    .dataframe tbody tr th {\n",
       "        vertical-align: top;\n",
       "    }\n",
       "\n",
       "    .dataframe thead th {\n",
       "        text-align: right;\n",
       "    }\n",
       "</style>\n",
       "<table border=\"1\" class=\"dataframe\">\n",
       "  <thead>\n",
       "    <tr style=\"text-align: right;\">\n",
       "      <th></th>\n",
       "      <th>url</th>\n",
       "      <th>contenttitle</th>\n",
       "      <th>content</th>\n",
       "    </tr>\n",
       "  </thead>\n",
       "  <tbody>\n",
       "    <tr>\n",
       "      <td>197</td>\n",
       "      <td>&lt;url&gt;http://news.cn.yahoo.com/ypen/20120612/11...</td>\n",
       "      <td>&lt;contenttitle&gt;“走婚族”悄然兴起　六成网友称能接受&lt;/contenttitle&gt;</td>\n",
       "      <td>&lt;content&gt;虽然结婚，却没有共同住所，平日各回各家，节假日才聚到一起——网友们把这样的...</td>\n",
       "    </tr>\n",
       "    <tr>\n",
       "      <td>198</td>\n",
       "      <td>&lt;url&gt;http://news.cn.yahoo.com/newspic/news/692...</td>\n",
       "      <td>&lt;contenttitle&gt;全国掀起扫黄风暴　涉黄场所天上落人间&lt;/contenttitle&gt;</td>\n",
       "      <td>&lt;content&gt;中国雅虎侠客平台仅提供信息存储空间服务，其内容均由上网用户提供。中国雅虎提...</td>\n",
       "    </tr>\n",
       "    <tr>\n",
       "      <td>199</td>\n",
       "      <td>&lt;url&gt;http://news.cn.yahoo.com/ypen/20120613/11...</td>\n",
       "      <td>&lt;contenttitle&gt;缅甸若开邦骚乱局势总体得到控制&lt;/contenttitle&gt;</td>\n",
       "      <td>&lt;content&gt;新华网仰光６月１２日电（记者张云飞）实行紧急状态的缅甸西部若开邦１２日虽然...</td>\n",
       "    </tr>\n",
       "  </tbody>\n",
       "</table>\n",
       "</div>"
      ],
      "text/plain": [
       "                                                   url  \\\n",
       "197  <url>http://news.cn.yahoo.com/ypen/20120612/11...   \n",
       "198  <url>http://news.cn.yahoo.com/newspic/news/692...   \n",
       "199  <url>http://news.cn.yahoo.com/ypen/20120613/11...   \n",
       "\n",
       "                                        contenttitle  \\\n",
       "197  <contenttitle>“走婚族”悄然兴起　六成网友称能接受</contenttitle>   \n",
       "198  <contenttitle>全国掀起扫黄风暴　涉黄场所天上落人间</contenttitle>   \n",
       "199     <contenttitle>缅甸若开邦骚乱局势总体得到控制</contenttitle>   \n",
       "\n",
       "                                               content  \n",
       "197  <content>虽然结婚，却没有共同住所，平日各回各家，节假日才聚到一起——网友们把这样的...  \n",
       "198  <content>中国雅虎侠客平台仅提供信息存储空间服务，其内容均由上网用户提供。中国雅虎提...  \n",
       "199  <content>新华网仰光６月１２日电（记者张云飞）实行紧急状态的缅甸西部若开邦１２日虽然...  "
      ]
     },
     "execution_count": 6,
     "metadata": {},
     "output_type": "execute_result"
    }
   ],
   "source": [
    "# 遍历所有行第0列,获取相应的url、标题 、新闻内容加入对应的列表\n",
    "for i in range(news.shape[0]):\n",
    "    if '<contenttitle>' in news[0][i]:\n",
    "        contenttitle.append(news[0][i])\n",
    "    if '<url>' in news[0][i]:\n",
    "        url.append(news[0][i])\n",
    "    if '<content>' in news[0][i]:\n",
    "        content.append(news[0][i])\n",
    "news1= pd.DataFrame({'url':url,'contenttitle':contenttitle,'content':content})\n",
    "print(news1.shape)\n",
    "news1.tail(3)"
   ]
  },
  {
   "cell_type": "code",
   "execution_count": 9,
   "metadata": {
    "ExecuteTime": {
     "end_time": "2019-12-18T11:59:37.529085Z",
     "start_time": "2019-12-18T11:59:37.503714Z"
    }
   },
   "outputs": [
    {
     "data": {
      "text/html": [
       "<div>\n",
       "<style scoped>\n",
       "    .dataframe tbody tr th:only-of-type {\n",
       "        vertical-align: middle;\n",
       "    }\n",
       "\n",
       "    .dataframe tbody tr th {\n",
       "        vertical-align: top;\n",
       "    }\n",
       "\n",
       "    .dataframe thead th {\n",
       "        text-align: right;\n",
       "    }\n",
       "</style>\n",
       "<table border=\"1\" class=\"dataframe\">\n",
       "  <thead>\n",
       "    <tr style=\"text-align: right;\">\n",
       "      <th></th>\n",
       "      <th>url</th>\n",
       "      <th>contenttitle</th>\n",
       "      <th>content</th>\n",
       "    </tr>\n",
       "  </thead>\n",
       "  <tbody>\n",
       "    <tr>\n",
       "      <td>197</td>\n",
       "      <td>http://news.cn.yahoo.com/ypen/20120612/1106081...</td>\n",
       "      <td>“走婚族”悄然兴起　六成网友称能接受</td>\n",
       "      <td>虽然结婚，却没有共同住所，平日各回各家，节假日才聚到一起——网友们把这样的结婚者称为走婚族。...</td>\n",
       "    </tr>\n",
       "    <tr>\n",
       "      <td>198</td>\n",
       "      <td>http://news.cn.yahoo.com/newspic/news/6922/33/...</td>\n",
       "      <td>全国掀起扫黄风暴　涉黄场所天上落人间</td>\n",
       "      <td>中国雅虎侠客平台仅提供信息存储空间服务，其内容均由上网用户提供。中国雅虎提示您尊重权利人之权...</td>\n",
       "    </tr>\n",
       "    <tr>\n",
       "      <td>199</td>\n",
       "      <td>http://news.cn.yahoo.com/ypen/20120613/1107633...</td>\n",
       "      <td>缅甸若开邦骚乱局势总体得到控制</td>\n",
       "      <td>新华网仰光６月１２日电（记者张云飞）实行紧急状态的缅甸西部若开邦１２日虽然仍有零星骚乱发生，...</td>\n",
       "    </tr>\n",
       "  </tbody>\n",
       "</table>\n",
       "</div>"
      ],
      "text/plain": [
       "                                                   url        contenttitle  \\\n",
       "197  http://news.cn.yahoo.com/ypen/20120612/1106081...  “走婚族”悄然兴起　六成网友称能接受   \n",
       "198  http://news.cn.yahoo.com/newspic/news/6922/33/...  全国掀起扫黄风暴　涉黄场所天上落人间   \n",
       "199  http://news.cn.yahoo.com/ypen/20120613/1107633...     缅甸若开邦骚乱局势总体得到控制   \n",
       "\n",
       "                                               content  \n",
       "197  虽然结婚，却没有共同住所，平日各回各家，节假日才聚到一起——网友们把这样的结婚者称为走婚族。...  \n",
       "198  中国雅虎侠客平台仅提供信息存储空间服务，其内容均由上网用户提供。中国雅虎提示您尊重权利人之权...  \n",
       "199  新华网仰光６月１２日电（记者张云飞）实行紧急状态的缅甸西部若开邦１２日虽然仍有零星骚乱发生，...  "
      ]
     },
     "execution_count": 9,
     "metadata": {},
     "output_type": "execute_result"
    }
   ],
   "source": [
    "#去掉前后标签\n",
    "new_contenttitle = []\n",
    "new_content = []\n",
    "new_url = []\n",
    "for i in range(len(url)):\n",
    "    new_contenttitle.append(contenttitle[i].split('>')[1].split('<')[0])\n",
    "    new_url.append(url[i].split('>')[1].split('<')[0])\n",
    "    new_content.append(content[i].split('>')[1].split('<')[0])\n",
    "new_news = pd.DataFrame({'url':new_url,'contenttitle':new_contenttitle,'content':new_content})\n",
    "new_news.tail(3)"
   ]
  },
  {
   "cell_type": "code",
   "execution_count": 18,
   "metadata": {
    "ExecuteTime": {
     "end_time": "2019-12-18T12:06:45.601209Z",
     "start_time": "2019-12-18T12:06:45.592882Z"
    }
   },
   "outputs": [
    {
     "name": "stdout",
     "output_type": "stream",
     "text": [
      "新华网仰光６月１２日电（记者张云飞）实行紧急状态的缅甸西部若开邦１２日虽然仍有零星骚乱发生，但局势总体已得到控制。据官方最新统计，自８日在若开邦孟都等地区实行宵禁至１１日，共有２１人在骚乱中死亡，２１人受伤，１６６２间房屋被烧。１２日上午，位于若开邦首府实兑的纳西市场遭纵火。此外，实兑附近农村也有几处房屋被烧。军警在努力恢复当地秩序的同时，还为临时救助站的难民提供救济物资。目前，在孟都和布帝洞地区共有８个临时救助站，其中有两处专门用来安置穆斯林难民。此次骚乱的直接原因是近日发生的两起杀人案，激化了不同民族和宗教之间的对立。缅甸中央政府已于６日成立专门调查委员会，并从８日开始在若开邦部分地区实行宵禁，白天则禁止５人以上在公共场合集会。１０日，缅甸总统吴登盛签署法令宣布在若开邦立即实行紧急状态，以防止骚乱事态进一步扩大蔓延。\n"
     ]
    }
   ],
   "source": [
    "content=new_news.content.values.tolist()#转换为list\n",
    "print(content[len(content)-1])  #输出list中最后一个新闻，第200条新闻"
   ]
  },
  {
   "cell_type": "markdown",
   "metadata": {},
   "source": [
    "# 分词"
   ]
  },
  {
   "cell_type": "code",
   "execution_count": 22,
   "metadata": {
    "ExecuteTime": {
     "end_time": "2019-12-18T12:18:23.555346Z",
     "start_time": "2019-12-18T12:18:22.713830Z"
    }
   },
   "outputs": [
    {
     "data": {
      "text/html": [
       "<div>\n",
       "<style scoped>\n",
       "    .dataframe tbody tr th:only-of-type {\n",
       "        vertical-align: middle;\n",
       "    }\n",
       "\n",
       "    .dataframe tbody tr th {\n",
       "        vertical-align: top;\n",
       "    }\n",
       "\n",
       "    .dataframe thead th {\n",
       "        text-align: right;\n",
       "    }\n",
       "</style>\n",
       "<table border=\"1\" class=\"dataframe\">\n",
       "  <thead>\n",
       "    <tr style=\"text-align: right;\">\n",
       "      <th></th>\n",
       "      <th>content_word</th>\n",
       "    </tr>\n",
       "  </thead>\n",
       "  <tbody>\n",
       "    <tr>\n",
       "      <td>163</td>\n",
       "      <td>[虽然, 结婚, ，, 却, 没有, 共同, 住所, ，, 平日, 各回, 各家, ，, 节...</td>\n",
       "    </tr>\n",
       "    <tr>\n",
       "      <td>164</td>\n",
       "      <td>[中国, 雅虎, 侠客, 平台, 仅, 提供, 信息, 存储空间, 服务, ，, 其, 内容...</td>\n",
       "    </tr>\n",
       "    <tr>\n",
       "      <td>165</td>\n",
       "      <td>[新华网, 仰光, ６, 月, １, ２, 日电, （, 记者, 张云飞, ）, 实行, 紧...</td>\n",
       "    </tr>\n",
       "  </tbody>\n",
       "</table>\n",
       "</div>"
      ],
      "text/plain": [
       "                                          content_word\n",
       "163  [虽然, 结婚, ，, 却, 没有, 共同, 住所, ，, 平日, 各回, 各家, ，, 节...\n",
       "164  [中国, 雅虎, 侠客, 平台, 仅, 提供, 信息, 存储空间, 服务, ，, 其, 内容...\n",
       "165  [新华网, 仰光, ６, 月, １, ２, 日电, （, 记者, 张云飞, ）, 实行, 紧..."
      ]
     },
     "execution_count": 22,
     "metadata": {},
     "output_type": "execute_result"
    }
   ],
   "source": [
    "#对每一篇新闻进行分词，并将每一篇分好词的新闻放进DataFrame结构中\n",
    "import jieba\n",
    "content_word=[]\n",
    "for line in content:\n",
    "    current_segment=jieba.lcut(line)#对每一篇新闻进行分词\n",
    "    if len(current_segment)>1 and current_segment!='\\r\\n':\n",
    "        content_word.append(current_segment)\n",
    "#content_word[len(content_word)-1]#输出最后一篇新闻的分词情况\n",
    "df_content=pd.DataFrame({'content_word':content_word})#构造dataframe数据\n",
    "df_content.tail(3)#分词之后只有166条新闻，通过if条件语句删除了34条无效新闻"
   ]
  },
  {
   "cell_type": "markdown",
   "metadata": {},
   "source": [
    "# 去除停用词"
   ]
  },
  {
   "cell_type": "code",
   "execution_count": 35,
   "metadata": {
    "ExecuteTime": {
     "end_time": "2019-12-18T12:25:38.288202Z",
     "start_time": "2019-12-18T12:25:38.273328Z"
    }
   },
   "outputs": [],
   "source": []
  },
  {
   "cell_type": "code",
   "execution_count": 54,
   "metadata": {
    "ExecuteTime": {
     "end_time": "2019-12-18T12:41:22.852615Z",
     "start_time": "2019-12-18T12:41:20.636950Z"
    }
   },
   "outputs": [
    {
     "name": "stdout",
     "output_type": "stream",
     "text": [
      "                                         content_clean\n",
      "161  [一位, 做, 足, 防晒, 措施, 光头, 市民, 头上, 挂满, 汗珠, 记者, 黄澄锋...\n",
      "162  [中新网, 月, 日电, 俄新网, 报道, 美国国务院, 发言人, 纽兰, 美国, 俄罗斯,...\n",
      "163  [结婚, 住所, 平日, 各回, 各家, 节假日, 聚到, 网友, 结婚, 称为, 走, 婚...\n",
      "164  [中国, 雅虎, 侠客, 平台, 提供, 信息, 存储空间, 服务, 内容, 上网, 用户,...\n",
      "165  [新华网, 仰光, 月, 日电, 记者, 张云飞, 实行, 紧急状态, 缅甸, 西部, 开邦...\n"
     ]
    },
    {
     "data": {
      "text/html": [
       "<div>\n",
       "<style scoped>\n",
       "    .dataframe tbody tr th:only-of-type {\n",
       "        vertical-align: middle;\n",
       "    }\n",
       "\n",
       "    .dataframe tbody tr th {\n",
       "        vertical-align: top;\n",
       "    }\n",
       "\n",
       "    .dataframe thead th {\n",
       "        text-align: right;\n",
       "    }\n",
       "</style>\n",
       "<table border=\"1\" class=\"dataframe\">\n",
       "  <thead>\n",
       "    <tr style=\"text-align: right;\">\n",
       "      <th></th>\n",
       "      <th>all_words</th>\n",
       "    </tr>\n",
       "  </thead>\n",
       "  <tbody>\n",
       "    <tr>\n",
       "      <td>0</td>\n",
       "      <td>中广网</td>\n",
       "    </tr>\n",
       "    <tr>\n",
       "      <td>1</td>\n",
       "      <td>唐山</td>\n",
       "    </tr>\n",
       "    <tr>\n",
       "      <td>2</td>\n",
       "      <td>月</td>\n",
       "    </tr>\n",
       "  </tbody>\n",
       "</table>\n",
       "</div>"
      ],
      "text/plain": [
       "  all_words\n",
       "0       中广网\n",
       "1        唐山\n",
       "2         月"
      ]
     },
     "execution_count": 54,
     "metadata": {},
     "output_type": "execute_result"
    }
   ],
   "source": [
    "#读取停止词，可根据需求适量增加，同样使用panda展示出来 ，这里取样为前20个\n",
    "stopwords=pd.read_table('G:/PracticeData/stopwords.txt',index_col=False,sep='\\n',quoting=3,encoding='GB18030',names=['stopwords'])\n",
    "#stopwords.head(20)\n",
    "\n",
    "#定义一个去除停用词的函数\n",
    "def drop_stopwords(df_content,stopwords):\n",
    "    content_clean=[]\n",
    "    all_words=[]\n",
    "    for line in df_content:\n",
    "        line_clean=[]\n",
    "        for word in line:\n",
    "            if word in stopwords:\n",
    "                continue\n",
    "            line_clean.append(word)\n",
    "            all_words.append(str(word))\n",
    "        content_clean.append(line_clean)\n",
    "    return content_clean,all_words\n",
    "\n",
    "contents =df_content.content_word.values.tolist()  #分好词的新闻内容的列表（词列表）\n",
    "stopwords=stopwords.stopwords.values.tolist()      #停用词的列表\n",
    "contents_clean,all_words=drop_stopwords(contents, stopwords)   #将上方的两个列表作为输入参数，输入定义的函数中\n",
    "\n",
    "df_content2=pd.DataFrame({'content_clean':contents_clean})\n",
    "print(df_content2.tail())\n",
    "\n",
    "#drop停止词后，可视化显示所有的词，然后根据这些词进行分组统计，查看每一词在文章中出现的次数\n",
    "df_all_words=pd.DataFrame({'all_words':all_words})\n",
    "df_all_words.head(3)"
   ]
  },
  {
   "cell_type": "code",
   "execution_count": 55,
   "metadata": {
    "ExecuteTime": {
     "end_time": "2019-12-18T12:41:57.190329Z",
     "start_time": "2019-12-18T12:41:57.068864Z"
    }
   },
   "outputs": [
    {
     "name": "stderr",
     "output_type": "stream",
     "text": [
      "D:\\anaconda\\lib\\site-packages\\ipykernel_launcher.py:1: FutureWarning: using a dict on a Series for aggregation\n",
      "is deprecated and will be removed in a future version. Use                 named aggregation instead.\n",
      "\n",
      "    >>> grouper.agg(name_1=func_1, name_2=func_2)\n",
      "\n",
      "  \"\"\"Entry point for launching an IPython kernel.\n"
     ]
    },
    {
     "data": {
      "text/html": [
       "<div>\n",
       "<style scoped>\n",
       "    .dataframe tbody tr th:only-of-type {\n",
       "        vertical-align: middle;\n",
       "    }\n",
       "\n",
       "    .dataframe tbody tr th {\n",
       "        vertical-align: top;\n",
       "    }\n",
       "\n",
       "    .dataframe thead th {\n",
       "        text-align: right;\n",
       "    }\n",
       "</style>\n",
       "<table border=\"1\" class=\"dataframe\">\n",
       "  <thead>\n",
       "    <tr style=\"text-align: right;\">\n",
       "      <th></th>\n",
       "      <th>all_words</th>\n",
       "      <th>count</th>\n",
       "    </tr>\n",
       "  </thead>\n",
       "  <tbody>\n",
       "    <tr>\n",
       "      <td>8345</td>\n",
       "      <td></td>\n",
       "      <td>833</td>\n",
       "    </tr>\n",
       "    <tr>\n",
       "      <td>4680</td>\n",
       "      <td>月</td>\n",
       "      <td>254</td>\n",
       "    </tr>\n",
       "    <tr>\n",
       "      <td>4513</td>\n",
       "      <td>日</td>\n",
       "      <td>209</td>\n",
       "    </tr>\n",
       "    <tr>\n",
       "      <td>3363</td>\n",
       "      <td>年</td>\n",
       "      <td>152</td>\n",
       "    </tr>\n",
       "    <tr>\n",
       "      <td>449</td>\n",
       "      <td>中国</td>\n",
       "      <td>146</td>\n",
       "    </tr>\n",
       "    <tr>\n",
       "      <td>7842</td>\n",
       "      <td>银行</td>\n",
       "      <td>132</td>\n",
       "    </tr>\n",
       "    <tr>\n",
       "      <td>7065</td>\n",
       "      <td>记者</td>\n",
       "      <td>131</td>\n",
       "    </tr>\n",
       "    <tr>\n",
       "      <td>3968</td>\n",
       "      <td>投资</td>\n",
       "      <td>126</td>\n",
       "    </tr>\n",
       "    <tr>\n",
       "      <td>435</td>\n",
       "      <td>中</td>\n",
       "      <td>120</td>\n",
       "    </tr>\n",
       "    <tr>\n",
       "      <td>7152</td>\n",
       "      <td>说</td>\n",
       "      <td>111</td>\n",
       "    </tr>\n",
       "  </tbody>\n",
       "</table>\n",
       "</div>"
      ],
      "text/plain": [
       "     all_words  count\n",
       "8345             833\n",
       "4680         月    254\n",
       "4513         日    209\n",
       "3363         年    152\n",
       "449         中国    146\n",
       "7842        银行    132\n",
       "7065        记者    131\n",
       "3968        投资    126\n",
       "435          中    120\n",
       "7152         说    111"
      ]
     },
     "execution_count": 55,
     "metadata": {},
     "output_type": "execute_result"
    }
   ],
   "source": [
    "words_count=df_all_words.groupby(by=['all_words'])['all_words'].agg({'count': numpy.size})\n",
    "words_count=words_count.reset_index().sort_values( by=['count'],ascending=False)\n",
    "words_count.head(10)"
   ]
  },
  {
   "cell_type": "code",
   "execution_count": 44,
   "metadata": {
    "ExecuteTime": {
     "end_time": "2019-12-18T12:29:10.754365Z",
     "start_time": "2019-12-18T12:29:10.710636Z"
    }
   },
   "outputs": [
    {
     "name": "stdout",
     "output_type": "stream",
     "text": [
      "枪支 0.2766975807191223\n",
      "犯罪 0.2107448868282181\n",
      "销毁 0.16950587698047873\n",
      "非法 0.11831675845260638\n",
      "公安部 0.11695122577234042\n",
      "\n",
      "台湾 1.0\n",
      "惊传 0.8414535319341819\n",
      "身亡 0.8226442564879378\n",
      "手续 0.7918254786577176\n",
      "准备 0.7858783141581096\n"
     ]
    }
   ],
   "source": [
    "#调用jieba.analyse.extract_tags函数，提取出关键词\n",
    "from jieba.analyse import *\n",
    "data=new_news['content'][0]\n",
    "#使用TF-idf（词频-逆文档频率）方式提取关键词和权重\n",
    "for keyword,weight in extract_tags(data,topK=5,withWeight=True):\n",
    "    print(keyword,weight)\n",
    "print()\n",
    "for keyword,weight in textrank(new_news['content'][150],topK=5,withWeight=True):\n",
    "    print(keyword,weight)"
   ]
  },
  {
   "cell_type": "code",
   "execution_count": 50,
   "metadata": {
    "ExecuteTime": {
     "end_time": "2019-12-18T12:29:58.291236Z",
     "start_time": "2019-12-18T12:29:58.276290Z"
    }
   },
   "outputs": [
    {
     "name": "stdout",
     "output_type": "stream",
     "text": [
      "新华网仰光６月１２日电（记者张云飞）实行紧急状态的缅甸西部若开邦１２日虽然仍有零星骚乱发生，但局势总体已得到控制。据官方最新统计，自８日在若开邦孟都等地区实行宵禁至１１日，共有２１人在骚乱中死亡，２１人受伤，１６６２间房屋被烧。１２日上午，位于若开邦首府实兑的纳西市场遭纵火。此外，实兑附近农村也有几处房屋被烧。军警在努力恢复当地秩序的同时，还为临时救助站的难民提供救济物资。目前，在孟都和布帝洞地区共有８个临时救助站，其中有两处专门用来安置穆斯林难民。此次骚乱的直接原因是近日发生的两起杀人案，激化了不同民族和宗教之间的对立。缅甸中央政府已于６日成立专门调查委员会，并从８日开始在若开邦部分地区实行宵禁，白天则禁止５人以上在公共场合集会。１０日，缅甸总统吴登盛签署法令宣布在若开邦立即实行紧急状态，以防止骚乱事态进一步扩大蔓延。\n",
      "开邦\n",
      "骚乱\n",
      "救助站\n",
      "实兑\n",
      "缅甸\n"
     ]
    }
   ],
   "source": [
    "import jieba.analyse\n",
    "#print(df_content['content_word'][50])\n",
    "df_content_str=\"\".join(df_content['content_word'][165])\n",
    "print(df_content_str)\n",
    "for keyword in jieba.analyse.extract_tags(df_content_str,topK=5):\n",
    "    print(keyword)"
   ]
  },
  {
   "cell_type": "code",
   "execution_count": null,
   "metadata": {},
   "outputs": [],
   "source": []
  }
 ],
 "metadata": {
  "kernelspec": {
   "display_name": "Python 3",
   "language": "python",
   "name": "python3"
  },
  "language_info": {
   "codemirror_mode": {
    "name": "ipython",
    "version": 3
   },
   "file_extension": ".py",
   "mimetype": "text/x-python",
   "name": "python",
   "nbconvert_exporter": "python",
   "pygments_lexer": "ipython3",
   "version": "3.7.3"
  },
  "toc": {
   "base_numbering": 1,
   "nav_menu": {},
   "number_sections": true,
   "sideBar": true,
   "skip_h1_title": false,
   "title_cell": "Table of Contents",
   "title_sidebar": "Contents",
   "toc_cell": false,
   "toc_position": {},
   "toc_section_display": true,
   "toc_window_display": true
  }
 },
 "nbformat": 4,
 "nbformat_minor": 2
}
