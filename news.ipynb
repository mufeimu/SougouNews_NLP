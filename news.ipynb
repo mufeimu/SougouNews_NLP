{
 "cells": [
  {
   "cell_type": "code",
   "execution_count": 143,
   "metadata": {
    "ExecuteTime": {
     "end_time": "2019-12-17T04:21:27.300007Z",
     "start_time": "2019-12-17T04:21:26.221335Z"
    }
   },
   "outputs": [
    {
     "name": "stdout",
     "output_type": "stream",
     "text": [
      "GB2312\n"
     ]
    }
   ],
   "source": [
    "#获取该文件的编码格式函数，需要import chardet\n",
    "import chardet\n",
    "def get_encoding(file):\n",
    "    with open(file, 'rb') as f:\n",
    "        return chardet.detect(f.read())['encoding']\n",
    "encoding=get_encoding('G:\\\\PracticeData\\\\val.txt')\n",
    "print(encoding)"
   ]
  },
  {
   "cell_type": "code",
   "execution_count": 168,
   "metadata": {
    "ExecuteTime": {
     "end_time": "2019-12-17T04:30:11.845076Z",
     "start_time": "2019-12-17T04:30:11.810168Z"
    }
   },
   "outputs": [
    {
     "data": {
      "text/plain": [
       "(1200, 1)"
      ]
     },
     "execution_count": 168,
     "metadata": {},
     "output_type": "execute_result"
    }
   ],
   "source": [
    "import pandas as pd\n",
    "import numpy\n",
    "news = pd.read_csv('G:\\\\PracticeData\\\\news_tensite_xml.smarty.txt',header = None,encoding = 'GB18030')\n",
    "# 分别读取url,content,contenttitle内容\n",
    "url = []\n",
    "content = []\n",
    "contenttitle = []\n",
    "news.shape"
   ]
  },
  {
   "cell_type": "code",
   "execution_count": 169,
   "metadata": {
    "ExecuteTime": {
     "end_time": "2019-12-17T04:30:22.214561Z",
     "start_time": "2019-12-17T04:30:22.110838Z"
    }
   },
   "outputs": [
    {
     "name": "stdout",
     "output_type": "stream",
     "text": [
      "(200, 3)\n"
     ]
    },
    {
     "data": {
      "text/html": [
       "<div>\n",
       "<style scoped>\n",
       "    .dataframe tbody tr th:only-of-type {\n",
       "        vertical-align: middle;\n",
       "    }\n",
       "\n",
       "    .dataframe tbody tr th {\n",
       "        vertical-align: top;\n",
       "    }\n",
       "\n",
       "    .dataframe thead th {\n",
       "        text-align: right;\n",
       "    }\n",
       "</style>\n",
       "<table border=\"1\" class=\"dataframe\">\n",
       "  <thead>\n",
       "    <tr style=\"text-align: right;\">\n",
       "      <th></th>\n",
       "      <th>url</th>\n",
       "      <th>contenttitle</th>\n",
       "      <th>content</th>\n",
       "    </tr>\n",
       "  </thead>\n",
       "  <tbody>\n",
       "    <tr>\n",
       "      <td>197</td>\n",
       "      <td>&lt;url&gt;http://news.cn.yahoo.com/ypen/20120612/11...</td>\n",
       "      <td>&lt;contenttitle&gt;“走婚族”悄然兴起　六成网友称能接受&lt;/contenttitle&gt;</td>\n",
       "      <td>&lt;content&gt;虽然结婚，却没有共同住所，平日各回各家，节假日才聚到一起——网友们把这样的...</td>\n",
       "    </tr>\n",
       "    <tr>\n",
       "      <td>198</td>\n",
       "      <td>&lt;url&gt;http://news.cn.yahoo.com/newspic/news/692...</td>\n",
       "      <td>&lt;contenttitle&gt;全国掀起扫黄风暴　涉黄场所天上落人间&lt;/contenttitle&gt;</td>\n",
       "      <td>&lt;content&gt;中国雅虎侠客平台仅提供信息存储空间服务，其内容均由上网用户提供。中国雅虎提...</td>\n",
       "    </tr>\n",
       "    <tr>\n",
       "      <td>199</td>\n",
       "      <td>&lt;url&gt;http://news.cn.yahoo.com/ypen/20120613/11...</td>\n",
       "      <td>&lt;contenttitle&gt;缅甸若开邦骚乱局势总体得到控制&lt;/contenttitle&gt;</td>\n",
       "      <td>&lt;content&gt;新华网仰光６月１２日电（记者张云飞）实行紧急状态的缅甸西部若开邦１２日虽然...</td>\n",
       "    </tr>\n",
       "  </tbody>\n",
       "</table>\n",
       "</div>"
      ],
      "text/plain": [
       "                                                   url  \\\n",
       "197  <url>http://news.cn.yahoo.com/ypen/20120612/11...   \n",
       "198  <url>http://news.cn.yahoo.com/newspic/news/692...   \n",
       "199  <url>http://news.cn.yahoo.com/ypen/20120613/11...   \n",
       "\n",
       "                                        contenttitle  \\\n",
       "197  <contenttitle>“走婚族”悄然兴起　六成网友称能接受</contenttitle>   \n",
       "198  <contenttitle>全国掀起扫黄风暴　涉黄场所天上落人间</contenttitle>   \n",
       "199     <contenttitle>缅甸若开邦骚乱局势总体得到控制</contenttitle>   \n",
       "\n",
       "                                               content  \n",
       "197  <content>虽然结婚，却没有共同住所，平日各回各家，节假日才聚到一起——网友们把这样的...  \n",
       "198  <content>中国雅虎侠客平台仅提供信息存储空间服务，其内容均由上网用户提供。中国雅虎提...  \n",
       "199  <content>新华网仰光６月１２日电（记者张云飞）实行紧急状态的缅甸西部若开邦１２日虽然...  "
      ]
     },
     "execution_count": 169,
     "metadata": {},
     "output_type": "execute_result"
    }
   ],
   "source": [
    "# 遍历所有行第0列,拿到数据加入对应的列表\n",
    "for i in range(news.shape[0]):\n",
    "    if '<contenttitle>' in news[0][i]:\n",
    "        contenttitle.append(news[0][i])\n",
    "    if '<url>' in news[0][i]:\n",
    "        url.append(news[0][i])\n",
    "    if '<content>' in news[0][i]:\n",
    "        content.append(news[0][i])\n",
    "news1= pd.DataFrame({'url':url,'contenttitle':contenttitle,'content':content})\n",
    "print(news1.shape)\n",
    "news1.tail(3)"
   ]
  },
  {
   "cell_type": "code",
   "execution_count": 33,
   "metadata": {
    "ExecuteTime": {
     "end_time": "2019-12-17T02:24:44.954395Z",
     "start_time": "2019-12-17T02:24:44.928461Z"
    }
   },
   "outputs": [
    {
     "data": {
      "text/html": [
       "<div>\n",
       "<style scoped>\n",
       "    .dataframe tbody tr th:only-of-type {\n",
       "        vertical-align: middle;\n",
       "    }\n",
       "\n",
       "    .dataframe tbody tr th {\n",
       "        vertical-align: top;\n",
       "    }\n",
       "\n",
       "    .dataframe thead th {\n",
       "        text-align: right;\n",
       "    }\n",
       "</style>\n",
       "<table border=\"1\" class=\"dataframe\">\n",
       "  <thead>\n",
       "    <tr style=\"text-align: right;\">\n",
       "      <th></th>\n",
       "      <th>url</th>\n",
       "      <th>contenttitle</th>\n",
       "      <th>content</th>\n",
       "    </tr>\n",
       "  </thead>\n",
       "  <tbody>\n",
       "    <tr>\n",
       "      <td>0</td>\n",
       "      <td>http://news.sohu.com/20120612/n345428229.shtml</td>\n",
       "      <td>公安机关销毁１０余万非法枪支　跨国武器走私渐起</td>\n",
       "      <td>中广网唐山６月１２日消息（记者汤一亮　庄胜春）据中国之声《新闻晚高峰》报道，今天（１２日）上...</td>\n",
       "    </tr>\n",
       "    <tr>\n",
       "      <td>1</td>\n",
       "      <td>http://news.sohu.com/20120607/n344998325.shtml</td>\n",
       "      <td>张绍刚发道歉信网友不认可：他的问题是俯视他人（图）</td>\n",
       "      <td>天津卫视求职节目《非你莫属》“晕倒门”事件余波未了，主持人张绍刚前日通过《非你莫属》节目组发...</td>\n",
       "    </tr>\n",
       "    <tr>\n",
       "      <td>2</td>\n",
       "      <td>http://news.sohu.com/20120604/n344745879.shtml</td>\n",
       "      <td>＃（关注夏收）（３）夫妻“麦客”忙麦收</td>\n",
       "      <td>临沂（山东），２０１２年６月４日　夫妻“麦客”忙麦收　６月４日，在山东省临沂市郯城县郯城街道...</td>\n",
       "    </tr>\n",
       "    <tr>\n",
       "      <td>3</td>\n",
       "      <td>http://news.sohu.com/20120613/n345535702.shtml</td>\n",
       "      <td>欧洲杯大战在即　荷兰葡萄牙面临淘汰将背水一战</td>\n",
       "      <td>中广网北京６月１３日消息（记者王宇）据中国之声《新闻晚高峰》报道，明天凌晨两场欧洲杯的精彩比...</td>\n",
       "    </tr>\n",
       "    <tr>\n",
       "      <td>4</td>\n",
       "      <td>http://news.sohu.com/20120601/n344598651.shtml</td>\n",
       "      <td>扎克伯格携妻罗马当街吃３０元麦当劳午餐（组图）</td>\n",
       "      <td>环球网记者李亮报道，正在意大利度蜜月的“脸谱”创始人扎克伯格与他华裔妻子的一举一动都处于媒体...</td>\n",
       "    </tr>\n",
       "  </tbody>\n",
       "</table>\n",
       "</div>"
      ],
      "text/plain": [
       "                                              url               contenttitle  \\\n",
       "0  http://news.sohu.com/20120612/n345428229.shtml    公安机关销毁１０余万非法枪支　跨国武器走私渐起   \n",
       "1  http://news.sohu.com/20120607/n344998325.shtml  张绍刚发道歉信网友不认可：他的问题是俯视他人（图）   \n",
       "2  http://news.sohu.com/20120604/n344745879.shtml        ＃（关注夏收）（３）夫妻“麦客”忙麦收   \n",
       "3  http://news.sohu.com/20120613/n345535702.shtml     欧洲杯大战在即　荷兰葡萄牙面临淘汰将背水一战   \n",
       "4  http://news.sohu.com/20120601/n344598651.shtml    扎克伯格携妻罗马当街吃３０元麦当劳午餐（组图）   \n",
       "\n",
       "                                             content  \n",
       "0  中广网唐山６月１２日消息（记者汤一亮　庄胜春）据中国之声《新闻晚高峰》报道，今天（１２日）上...  \n",
       "1  天津卫视求职节目《非你莫属》“晕倒门”事件余波未了，主持人张绍刚前日通过《非你莫属》节目组发...  \n",
       "2  临沂（山东），２０１２年６月４日　夫妻“麦客”忙麦收　６月４日，在山东省临沂市郯城县郯城街道...  \n",
       "3  中广网北京６月１３日消息（记者王宇）据中国之声《新闻晚高峰》报道，明天凌晨两场欧洲杯的精彩比...  \n",
       "4  环球网记者李亮报道，正在意大利度蜜月的“脸谱”创始人扎克伯格与他华裔妻子的一举一动都处于媒体...  "
      ]
     },
     "execution_count": 33,
     "metadata": {},
     "output_type": "execute_result"
    }
   ],
   "source": [
    "#去掉前后标签\n",
    "new_contenttitle = []\n",
    "new_content = []\n",
    "new_url = []\n",
    "for i in range(len(url)):\n",
    "    new_contenttitle.append(contenttitle[i].split('>')[1].split('<')[0])\n",
    "    new_url.append(url[i].split('>')[1].split('<')[0])\n",
    "    new_content.append(content[i].split('>')[1].split('<')[0])\n",
    "new_news = pd.DataFrame({'url':new_url,'contenttitle':new_contenttitle,'content':new_content})\n",
    "new_news.head()"
   ]
  },
  {
   "cell_type": "code",
   "execution_count": 95,
   "metadata": {
    "ExecuteTime": {
     "end_time": "2019-12-17T03:42:53.169231Z",
     "start_time": "2019-12-17T03:42:53.158261Z"
    }
   },
   "outputs": [
    {
     "name": "stdout",
     "output_type": "stream",
     "text": [
      "新华网仰光６月１２日电（记者张云飞）实行紧急状态的缅甸西部若开邦１２日虽然仍有零星骚乱发生，但局势总体已得到控制。据官方最新统计，自８日在若开邦孟都等地区实行宵禁至１１日，共有２１人在骚乱中死亡，２１人受伤，１６６２间房屋被烧。１２日上午，位于若开邦首府实兑的纳西市场遭纵火。此外，实兑附近农村也有几处房屋被烧。军警在努力恢复当地秩序的同时，还为临时救助站的难民提供救济物资。目前，在孟都和布帝洞地区共有８个临时救助站，其中有两处专门用来安置穆斯林难民。此次骚乱的直接原因是近日发生的两起杀人案，激化了不同民族和宗教之间的对立。缅甸中央政府已于６日成立专门调查委员会，并从８日开始在若开邦部分地区实行宵禁，白天则禁止５人以上在公共场合集会。１０日，缅甸总统吴登盛签署法令宣布在若开邦立即实行紧急状态，以防止骚乱事态进一步扩大蔓延。\n"
     ]
    }
   ],
   "source": [
    "content=new_news.content.values.tolist()#转换为list\n",
    "print(content[799])"
   ]
  },
  {
   "cell_type": "code",
   "execution_count": 62,
   "metadata": {
    "ExecuteTime": {
     "end_time": "2019-12-17T02:50:00.609058Z",
     "start_time": "2019-12-17T02:49:58.611342Z"
    }
   },
   "outputs": [
    {
     "data": {
      "text/html": [
       "<div>\n",
       "<style scoped>\n",
       "    .dataframe tbody tr th:only-of-type {\n",
       "        vertical-align: middle;\n",
       "    }\n",
       "\n",
       "    .dataframe tbody tr th {\n",
       "        vertical-align: top;\n",
       "    }\n",
       "\n",
       "    .dataframe thead th {\n",
       "        text-align: right;\n",
       "    }\n",
       "</style>\n",
       "<table border=\"1\" class=\"dataframe\">\n",
       "  <thead>\n",
       "    <tr style=\"text-align: right;\">\n",
       "      <th></th>\n",
       "      <th>content_word</th>\n",
       "    </tr>\n",
       "  </thead>\n",
       "  <tbody>\n",
       "    <tr>\n",
       "      <td>0</td>\n",
       "      <td>[中广网, 唐山, ６, 月, １, ２, 日, 消息, （, 记者, 汤一亮, 　, 庄胜...</td>\n",
       "    </tr>\n",
       "    <tr>\n",
       "      <td>1</td>\n",
       "      <td>[天津, 卫视, 求职, 节目, 《, 非你莫属, 》, “, 晕倒, 门, ”, 事件, ...</td>\n",
       "    </tr>\n",
       "    <tr>\n",
       "      <td>2</td>\n",
       "      <td>[临沂, （, 山东, ）, ，, ２, ０, １, ２, 年, ６, 月, ４, 日, 　...</td>\n",
       "    </tr>\n",
       "    <tr>\n",
       "      <td>3</td>\n",
       "      <td>[中广网, 北京, ６, 月, １, ３, 日, 消息, （, 记者, 王宇, ）, 据, ...</td>\n",
       "    </tr>\n",
       "    <tr>\n",
       "      <td>4</td>\n",
       "      <td>[环球网, 记者, 李亮, 报道, ，, 正在, 意大利, 度蜜月, 的, “, 脸谱, ”...</td>\n",
       "    </tr>\n",
       "  </tbody>\n",
       "</table>\n",
       "</div>"
      ],
      "text/plain": [
       "                                        content_word\n",
       "0  [中广网, 唐山, ６, 月, １, ２, 日, 消息, （, 记者, 汤一亮, 　, 庄胜...\n",
       "1  [天津, 卫视, 求职, 节目, 《, 非你莫属, 》, “, 晕倒, 门, ”, 事件, ...\n",
       "2  [临沂, （, 山东, ）, ，, ２, ０, １, ２, 年, ６, 月, ４, 日, 　...\n",
       "3  [中广网, 北京, ６, 月, １, ３, 日, 消息, （, 记者, 王宇, ）, 据, ...\n",
       "4  [环球网, 记者, 李亮, 报道, ，, 正在, 意大利, 度蜜月, 的, “, 脸谱, ”..."
      ]
     },
     "execution_count": 62,
     "metadata": {},
     "output_type": "execute_result"
    }
   ],
   "source": [
    "#对每一篇新闻进行分词，并将每一篇分好词的新闻放进DataFrame结构中\n",
    "content_word=[]\n",
    "for line in content:\n",
    "    current_segment=jieba.lcut(line)#对每一篇新闻进行分词\n",
    "    if len(current_segment)>1 and current_segment!='\\r\\n':\n",
    "        content_word.append(current_segment)\n",
    "#content_word[len(content_word)-1]#输出最后一篇新闻的分词\n",
    "df_content=pd.DataFrame({'content_word':content_word})#构造dataframe数据\n",
    "df_content.head()"
   ]
  },
  {
   "cell_type": "code",
   "execution_count": 82,
   "metadata": {
    "ExecuteTime": {
     "end_time": "2019-12-17T03:20:03.837956Z",
     "start_time": "2019-12-17T03:20:03.822998Z"
    }
   },
   "outputs": [],
   "source": [
    "#读取停止词，可根据需求适量增加，同样使用panda展示出来 ，这里取样为前20个\n",
    "stopwords=pd.read_table('G:/PracticeData/stopwords.txt',index_col=False,sep='\\n',quoting=3,encoding='GB18030',names=['stopwords'])\n",
    "#stopwords.head(20)"
   ]
  },
  {
   "cell_type": "code",
   "execution_count": 83,
   "metadata": {
    "ExecuteTime": {
     "end_time": "2019-12-17T03:20:11.686606Z",
     "start_time": "2019-12-17T03:20:05.503884Z"
    }
   },
   "outputs": [
    {
     "data": {
      "text/html": [
       "<div>\n",
       "<style scoped>\n",
       "    .dataframe tbody tr th:only-of-type {\n",
       "        vertical-align: middle;\n",
       "    }\n",
       "\n",
       "    .dataframe tbody tr th {\n",
       "        vertical-align: top;\n",
       "    }\n",
       "\n",
       "    .dataframe thead th {\n",
       "        text-align: right;\n",
       "    }\n",
       "</style>\n",
       "<table border=\"1\" class=\"dataframe\">\n",
       "  <thead>\n",
       "    <tr style=\"text-align: right;\">\n",
       "      <th></th>\n",
       "      <th>content_clean</th>\n",
       "    </tr>\n",
       "  </thead>\n",
       "  <tbody>\n",
       "    <tr>\n",
       "      <td>0</td>\n",
       "      <td>[中广网, 唐山, 月, 日, 消息, 记者, 汤一亮, 庄胜春, 中国, 之声, 新闻, ...</td>\n",
       "    </tr>\n",
       "    <tr>\n",
       "      <td>1</td>\n",
       "      <td>[天津, 卫视, 求职, 节目, 非你莫属, 晕倒, 门, 事件, 余波, 未了, 主持人,...</td>\n",
       "    </tr>\n",
       "    <tr>\n",
       "      <td>2</td>\n",
       "      <td>[临沂, 山东, 年, 月, 日, 夫妻, 麦客, 忙, 麦收, 月, 日, 山东省, 临沂...</td>\n",
       "    </tr>\n",
       "    <tr>\n",
       "      <td>3</td>\n",
       "      <td>[中广网, 北京, 月, 日, 消息, 记者, 王宇, 中国, 之声, 新闻, 晚, 高峰,...</td>\n",
       "    </tr>\n",
       "    <tr>\n",
       "      <td>4</td>\n",
       "      <td>[环球网, 记者, 李亮, 报道, 意大利, 度蜜月, 脸谱, 创始人, 扎克, 伯格, 华...</td>\n",
       "    </tr>\n",
       "  </tbody>\n",
       "</table>\n",
       "</div>"
      ],
      "text/plain": [
       "                                       content_clean\n",
       "0  [中广网, 唐山, 月, 日, 消息, 记者, 汤一亮, 庄胜春, 中国, 之声, 新闻, ...\n",
       "1  [天津, 卫视, 求职, 节目, 非你莫属, 晕倒, 门, 事件, 余波, 未了, 主持人,...\n",
       "2  [临沂, 山东, 年, 月, 日, 夫妻, 麦客, 忙, 麦收, 月, 日, 山东省, 临沂...\n",
       "3  [中广网, 北京, 月, 日, 消息, 记者, 王宇, 中国, 之声, 新闻, 晚, 高峰,...\n",
       "4  [环球网, 记者, 李亮, 报道, 意大利, 度蜜月, 脸谱, 创始人, 扎克, 伯格, 华..."
      ]
     },
     "execution_count": 83,
     "metadata": {},
     "output_type": "execute_result"
    }
   ],
   "source": [
    "def drop_stopwords(df_content,stopwords):\n",
    "    content_clean=[]\n",
    "    all_words=[]\n",
    "    for line in df_content:\n",
    "        line_clean=[]\n",
    "        for word in line:\n",
    "            if word in stopwords:\n",
    "                continue\n",
    "            line_clean.append(word)\n",
    "            all_words.append(str(word))\n",
    "        content_clean.append(line_clean)\n",
    "    return content_clean,all_words\n",
    "contents =df_content.content_word.values.tolist()\n",
    "stopwords=stopwords.stopwords.values.tolist()\n",
    "contents_clean,all_words=drop_stopwords(contents, stopwords)\n",
    "\n",
    "df_content2=pd.DataFrame({'content_clean':contents_clean})\n",
    "df_content2.head()"
   ]
  },
  {
   "cell_type": "code",
   "execution_count": 89,
   "metadata": {
    "ExecuteTime": {
     "end_time": "2019-12-17T03:32:02.775575Z",
     "start_time": "2019-12-17T03:32:02.737662Z"
    }
   },
   "outputs": [
    {
     "data": {
      "text/html": [
       "<div>\n",
       "<style scoped>\n",
       "    .dataframe tbody tr th:only-of-type {\n",
       "        vertical-align: middle;\n",
       "    }\n",
       "\n",
       "    .dataframe tbody tr th {\n",
       "        vertical-align: top;\n",
       "    }\n",
       "\n",
       "    .dataframe thead th {\n",
       "        text-align: right;\n",
       "    }\n",
       "</style>\n",
       "<table border=\"1\" class=\"dataframe\">\n",
       "  <thead>\n",
       "    <tr style=\"text-align: right;\">\n",
       "      <th></th>\n",
       "      <th>all_words</th>\n",
       "    </tr>\n",
       "  </thead>\n",
       "  <tbody>\n",
       "    <tr>\n",
       "      <td>0</td>\n",
       "      <td>中广网</td>\n",
       "    </tr>\n",
       "    <tr>\n",
       "      <td>1</td>\n",
       "      <td>唐山</td>\n",
       "    </tr>\n",
       "    <tr>\n",
       "      <td>2</td>\n",
       "      <td>月</td>\n",
       "    </tr>\n",
       "    <tr>\n",
       "      <td>3</td>\n",
       "      <td>日</td>\n",
       "    </tr>\n",
       "    <tr>\n",
       "      <td>4</td>\n",
       "      <td>消息</td>\n",
       "    </tr>\n",
       "  </tbody>\n",
       "</table>\n",
       "</div>"
      ],
      "text/plain": [
       "  all_words\n",
       "0       中广网\n",
       "1        唐山\n",
       "2         月\n",
       "3         日\n",
       "4        消息"
      ]
     },
     "execution_count": 89,
     "metadata": {},
     "output_type": "execute_result"
    }
   ],
   "source": [
    "#drop停止词后，可视化显示所有的词，然后根据这些词进行分组统计，查看每一词在文章中出现的次数\n",
    "df_all_words=pd.DataFrame({'all_words':all_words})\n",
    "df_all_words.head()"
   ]
  },
  {
   "cell_type": "code",
   "execution_count": 94,
   "metadata": {
    "ExecuteTime": {
     "end_time": "2019-12-17T03:33:33.750460Z",
     "start_time": "2019-12-17T03:33:33.623334Z"
    }
   },
   "outputs": [
    {
     "name": "stderr",
     "output_type": "stream",
     "text": [
      "D:\\anaconda\\lib\\site-packages\\ipykernel_launcher.py:1: FutureWarning: using a dict on a Series for aggregation\n",
      "is deprecated and will be removed in a future version. Use                 named aggregation instead.\n",
      "\n",
      "    >>> grouper.agg(name_1=func_1, name_2=func_2)\n",
      "\n",
      "  \"\"\"Entry point for launching an IPython kernel.\n"
     ]
    },
    {
     "data": {
      "text/html": [
       "<div>\n",
       "<style scoped>\n",
       "    .dataframe tbody tr th:only-of-type {\n",
       "        vertical-align: middle;\n",
       "    }\n",
       "\n",
       "    .dataframe tbody tr th {\n",
       "        vertical-align: top;\n",
       "    }\n",
       "\n",
       "    .dataframe thead th {\n",
       "        text-align: right;\n",
       "    }\n",
       "</style>\n",
       "<table border=\"1\" class=\"dataframe\">\n",
       "  <thead>\n",
       "    <tr style=\"text-align: right;\">\n",
       "      <th></th>\n",
       "      <th>all_words</th>\n",
       "      <th>count</th>\n",
       "    </tr>\n",
       "  </thead>\n",
       "  <tbody>\n",
       "    <tr>\n",
       "      <td>8345</td>\n",
       "      <td></td>\n",
       "      <td>3332</td>\n",
       "    </tr>\n",
       "    <tr>\n",
       "      <td>4680</td>\n",
       "      <td>月</td>\n",
       "      <td>1016</td>\n",
       "    </tr>\n",
       "    <tr>\n",
       "      <td>4513</td>\n",
       "      <td>日</td>\n",
       "      <td>836</td>\n",
       "    </tr>\n",
       "    <tr>\n",
       "      <td>3363</td>\n",
       "      <td>年</td>\n",
       "      <td>608</td>\n",
       "    </tr>\n",
       "    <tr>\n",
       "      <td>449</td>\n",
       "      <td>中国</td>\n",
       "      <td>584</td>\n",
       "    </tr>\n",
       "    <tr>\n",
       "      <td>7842</td>\n",
       "      <td>银行</td>\n",
       "      <td>528</td>\n",
       "    </tr>\n",
       "    <tr>\n",
       "      <td>7065</td>\n",
       "      <td>记者</td>\n",
       "      <td>524</td>\n",
       "    </tr>\n",
       "    <tr>\n",
       "      <td>3968</td>\n",
       "      <td>投资</td>\n",
       "      <td>504</td>\n",
       "    </tr>\n",
       "    <tr>\n",
       "      <td>435</td>\n",
       "      <td>中</td>\n",
       "      <td>480</td>\n",
       "    </tr>\n",
       "    <tr>\n",
       "      <td>7152</td>\n",
       "      <td>说</td>\n",
       "      <td>444</td>\n",
       "    </tr>\n",
       "  </tbody>\n",
       "</table>\n",
       "</div>"
      ],
      "text/plain": [
       "     all_words  count\n",
       "8345            3332\n",
       "4680         月   1016\n",
       "4513         日    836\n",
       "3363         年    608\n",
       "449         中国    584\n",
       "7842        银行    528\n",
       "7065        记者    524\n",
       "3968        投资    504\n",
       "435          中    480\n",
       "7152         说    444"
      ]
     },
     "execution_count": 94,
     "metadata": {},
     "output_type": "execute_result"
    }
   ],
   "source": [
    "words_count=df_all_words.groupby(by=['all_words'])['all_words'].agg({'count': numpy.size})\n",
    "words_count=words_count.reset_index().sort_values( by=['count'],ascending=False)\n",
    "words_count.head(10)"
   ]
  },
  {
   "cell_type": "code",
   "execution_count": 116,
   "metadata": {
    "ExecuteTime": {
     "end_time": "2019-12-17T03:55:19.568054Z",
     "start_time": "2019-12-17T03:55:19.534147Z"
    }
   },
   "outputs": [
    {
     "name": "stdout",
     "output_type": "stream",
     "text": [
      "枪支 0.2766975807191223\n",
      "犯罪 0.2107448868282181\n",
      "销毁 0.16950587698047873\n",
      "非法 0.11831675845260638\n",
      "公安部 0.11695122577234042\n",
      "\n",
      "前男友 1.0\n",
      "女生 0.8013257402887618\n",
      "艳照 0.6280137178325393\n",
      "美院 0.6087881283015308\n",
      "四川 0.6049701287263769\n"
     ]
    }
   ],
   "source": [
    "#调用jieba.analyse.extract_tags函数，提取出关键词\n",
    "from jieba.analyse import *\n",
    "data=new_news['content'][0]\n",
    "#使用TF-idf（词频-逆文档频率）方式提取关键词和权重\n",
    "for keyword,weight in extract_tags(data,topK=5,withWeight=True):\n",
    "    print(keyword,weight)\n",
    "print()\n",
    "for keyword,weight in textrank(new_news['content'][500],topK=5,withWeight=True):\n",
    "    print(keyword,weight)"
   ]
  },
  {
   "cell_type": "code",
   "execution_count": 140,
   "metadata": {
    "ExecuteTime": {
     "end_time": "2019-12-17T04:14:26.819444Z",
     "start_time": "2019-12-17T04:14:26.790513Z"
    }
   },
   "outputs": [
    {
     "name": "stdout",
     "output_type": "stream",
     "text": [
      "大连 0.2459714926525\n",
      "新区 0.22365931279091605\n",
      "东北亚 0.17156086224990458\n",
      "国家级 0.14072921084937026\n",
      "开放 0.11328130711683207\n"
     ]
    }
   ],
   "source": [
    "import jieba.analyse\n",
    "#print(df_content['content_word'][50])\n",
    "df_content_str=\"\".join(df_content['content_word'][50])\n",
    "#print(df_content_str)\n",
    "for keyword,weight in jieba.analyse.extract_tags(df_content_str,topK=5,withWeight=True):\n",
    "    print(keyword,weight)"
   ]
  },
  {
   "cell_type": "code",
   "execution_count": null,
   "metadata": {},
   "outputs": [],
   "source": []
  }
 ],
 "metadata": {
  "kernelspec": {
   "display_name": "Python 3",
   "language": "python",
   "name": "python3"
  },
  "language_info": {
   "codemirror_mode": {
    "name": "ipython",
    "version": 3
   },
   "file_extension": ".py",
   "mimetype": "text/x-python",
   "name": "python",
   "nbconvert_exporter": "python",
   "pygments_lexer": "ipython3",
   "version": "3.7.3"
  },
  "toc": {
   "base_numbering": 1,
   "nav_menu": {},
   "number_sections": true,
   "sideBar": true,
   "skip_h1_title": false,
   "title_cell": "Table of Contents",
   "title_sidebar": "Contents",
   "toc_cell": false,
   "toc_position": {},
   "toc_section_display": true,
   "toc_window_display": false
  }
 },
 "nbformat": 4,
 "nbformat_minor": 2
}
